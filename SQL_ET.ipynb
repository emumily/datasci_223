{
 "cells": [
  {
   "cell_type": "code",
   "execution_count": null,
   "metadata": {},
   "outputs": [],
   "source": [
    "import pandas as pd"
   ]
  },
  {
   "cell_type": "code",
   "execution_count": null,
   "metadata": {},
   "outputs": [],
   "source": [
    "file_path = \"/Users/emilytang/Library/CloudStorage/Box-Box/Emily's Misc Proctor Folder/TA/Fake_Claims_Data_ET.csv\"\n",
    "\n",
    "# Read the CSV file into a Pandas DataFrame\n",
    "ClaimsData = pd.read_csv(file_path, sep=\",\")\n",
    "ClaimsData.head()"
   ]
  },
  {
   "cell_type": "code",
   "execution_count": null,
   "metadata": {
    "vscode": {
     "languageId": "sql"
    }
   },
   "outputs": [],
   "source": [
    "-- Create a CTE\n",
    "WITH ClaimsCTE AS (\n",
    "    SELECT ID, SVC_Date, ICD_Type, Diagnosis_Code, Diagnosis_Description,\n",
    "           Year_of_Birth, Gender, Race_Ethnicity, BMI\n",
    "    FROM ClaimsData\n",
    ")\n",
    "SELECT * FROM ClaimsCTE;\n"
   ]
  },
  {
   "cell_type": "code",
   "execution_count": null,
   "metadata": {
    "vscode": {
     "languageId": "sql"
    }
   },
   "outputs": [],
   "source": [
    "-- Create a temporary table\n",
    "CREATE TEMPORARY TABLE TempClaims AS\n",
    "SELECT ID, SVC_Date, ICD_Type, Diagnosis_Code, Diagnosis_Description,\n",
    "       Year_of_Birth, Gender, Race_Ethnicity, BMI\n",
    "FROM ClaimsData;\n",
    "\n",
    "-- Use in following queries within the same session.\n",
    "SELECT * FROM TempClaims;\n"
   ]
  },
  {
   "cell_type": "code",
   "execution_count": null,
   "metadata": {
    "vscode": {
     "languageId": "sql"
    }
   },
   "outputs": [],
   "source": [
    "SELECT c.ID, c.index_date, c.end_date, t.Year_of_Birth, t.Gender\n",
    "FROM cohort c\n",
    "LEFT JOIN TempClaims t\n",
    "ON c.ID=t.ID\n",
    "WHERE Year_of_Birth>1950\n",
    "\n",
    "SELECT c.ID, c.index_date, c.end_date, t.Year_of_Birth, t.Gender\n",
    "FROM cohort c\n",
    "INNER JOIN TempClaims t\n",
    "ON c.ID=t.ID\n",
    "WHERE Year_of_Birth>1950"
   ]
  },
  {
   "cell_type": "code",
   "execution_count": null,
   "metadata": {
    "vscode": {
     "languageId": "sql"
    }
   },
   "outputs": [],
   "source": [
    "SELECT *, CASE WHEN ID IN \n",
    "    (SELECT c.ID from Cohort c\n",
    "    LEFT JOIN TempClaims t\n",
    "    ON c.ID=t.ID\n",
    "    WHERE t.SVC_Date BETWEEN c.index_date AND c.end_date) THEN 1 ELSE 0\n",
    "    END AS cohort_flag\n",
    "FROM TempCLaims"
   ]
  }
 ],
 "metadata": {
  "kernelspec": {
   "display_name": ".my_env3",
   "language": "python",
   "name": ".my_env3"
  },
  "language_info": {
   "codemirror_mode": {
    "name": "ipython",
    "version": 3
   },
   "file_extension": ".py",
   "mimetype": "text/x-python",
   "name": "python",
   "nbconvert_exporter": "python",
   "pygments_lexer": "ipython3",
   "version": "3.11.5"
  }
 },
 "nbformat": 4,
 "nbformat_minor": 2
}
